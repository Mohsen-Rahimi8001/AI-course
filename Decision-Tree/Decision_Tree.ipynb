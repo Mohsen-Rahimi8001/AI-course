{
  "nbformat": 4,
  "nbformat_minor": 0,
  "metadata": {
    "colab": {
      "provenance": []
    },
    "kernelspec": {
      "name": "python3",
      "display_name": "Python 3"
    },
    "language_info": {
      "name": "python"
    }
  },
  "cells": [
    {
      "cell_type": "code",
      "source": [
        "import math"
      ],
      "metadata": {
        "id": "rvx78tYDJjfk"
      },
      "execution_count": 1,
      "outputs": []
    },
    {
      "cell_type": "code",
      "execution_count": 2,
      "metadata": {
        "id": "1HH3ZAI3Gvz4"
      },
      "outputs": [],
      "source": [
        "import numpy as np\n",
        "import pandas as pd\n",
        "\n",
        "class Node:\n",
        "\n",
        "  def __init__(self, value, children:list=None, parent_choice=None):\n",
        "    self.value = value\n",
        "    if children and type(children) != list:\n",
        "      raise TypeError(\"children must be of type list\")\n",
        "\n",
        "    self.children = children or []\n",
        "    self.parent_choice = parent_choice\n",
        "\n",
        "  def is_leaf(self):\n",
        "    return not(len(self.children))\n",
        "\n",
        "  def add_child(self, subtree, parent_choice):\n",
        "    if type(subtree) == Tree:\n",
        "      subtree.root.parent_choice = parent_choice\n",
        "      self.children.append(subtree.root)\n",
        "    else:\n",
        "      self.children.append(Node(subtree, parent_choice=parent_choice))\n",
        "\n",
        "  def __str__(self):\n",
        "    return f\"{self.value}\"\n",
        "\n",
        "  def __repr__(self):\n",
        "    return f\"{self.value}\"\n",
        "\n",
        "\n",
        "class Tree:\n",
        "\n",
        "  def __init__(self, root:Node):\n",
        "    if type(root) != Node:\n",
        "      raise TypeError(f\"root must be of type {Node.__name__}\")\n",
        "\n",
        "    self.root = root\n",
        "\n",
        "  def __str__(self):\n",
        "    Tree.__print_node(self.root)\n",
        "    return \"\"\n",
        "\n",
        "  @staticmethod\n",
        "  def __print_node(node):\n",
        "        if not node.is_leaf():\n",
        "            print(\"node:\", node.value)\n",
        "            print(\"children:\")\n",
        "            for i, child in enumerate(node.children):\n",
        "                print(\"   \", \"parent_choice:\", child.parent_choice, \"|\", f\"ch{i}:\", child.value)\n",
        "\n",
        "            print(\"----------------------\")\n",
        "\n",
        "            for child in node.children:\n",
        "                Tree.__print_node(child)"
      ]
    },
    {
      "cell_type": "code",
      "source": [
        "rest_df = pd.DataFrame({\n",
        "    'alt': [1, 1, 0, 1, 1, 0, 0, 0, 0, 1, 0, 1],\n",
        "    'bar': [0, 0, 1, 0, 0, 1, 1, 0, 1, 1, 0, 1],\n",
        "    'fri': [0, 0, 0, 1, 1, 0, 0, 0, 1, 1, 0, 1],\n",
        "    'hun': [1, 1, 0, 1, 0, 1, 0, 1, 0, 1, 0, 1],\n",
        "    'pat': [\n",
        "        'some', 'full', 'some', 'full', 'full',\n",
        "        'some', 'none', 'some', 'full', 'full',\n",
        "        'none', 'full'\n",
        "    ],\n",
        "    'price': [3, 1, 1, 1, 3, 2, 1, 2, 1, 3, 1, 1],\n",
        "    'rain': [0, 0, 0, 1, 0, 1, 1, 1, 1, 0, 0, 0],\n",
        "    'res': [1, 0, 0, 0, 1, 1, 0, 1, 0, 1, 0, 0],\n",
        "    'type': ['0', '1', '2', '1',\n",
        "             '0', '3', '2',\n",
        "             '1', '2', '3',\n",
        "             '1', '2'\n",
        "             ],\n",
        "    'est': [1, 2, 1, 3, 4, 1, 1, 1, 4, 3, 1, 2],\n",
        "    'result': [1, 0, 1, 1, 0, 1, 0, 1, 0, 0, 0, 1],\n",
        "})"
      ],
      "metadata": {
        "id": "pG34SWyslWT2"
      },
      "execution_count": 3,
      "outputs": []
    },
    {
      "cell_type": "code",
      "source": [
        "est_map = {\n",
        "    1: '0-10',\n",
        "    2: '30-60',\n",
        "    3: '10-30',\n",
        "    4: '>60'\n",
        "}"
      ],
      "metadata": {
        "id": "cAGlffb2oGB5"
      },
      "execution_count": 4,
      "outputs": []
    },
    {
      "cell_type": "code",
      "source": [
        "rest_df.columns"
      ],
      "metadata": {
        "id": "oakxUzphqNgB",
        "colab": {
          "base_uri": "https://localhost:8080/"
        },
        "outputId": "bb917f18-7c1c-454b-cad5-752cff636aae"
      },
      "execution_count": 5,
      "outputs": [
        {
          "output_type": "execute_result",
          "data": {
            "text/plain": [
              "Index(['alt', 'bar', 'fri', 'hun', 'pat', 'price', 'rain', 'res', 'type',\n",
              "       'est', 'result'],\n",
              "      dtype='object')"
            ]
          },
          "metadata": {},
          "execution_count": 5
        }
      ]
    },
    {
      "cell_type": "code",
      "source": [
        "def prune(attr:str, examples:pd.DataFrame):\n",
        "  # check for plurality of more than 95%, if so, make it leaf. and return its value.\n",
        "\n",
        "  ones = len(examples[(examples.iloc[:,-1] == 1)])\n",
        "  zeros = len(examples[(examples.iloc[:,-1] == 0)])\n",
        "\n",
        "  if (zeros / len(examples)) > 0.8:\n",
        "    return 0\n",
        "  elif (ones / len(examples)) > 0.8:\n",
        "    return 1\n",
        "  else:\n",
        "    return"
      ],
      "metadata": {
        "id": "Vxuh7lx1qflG"
      },
      "execution_count": 92,
      "outputs": []
    },
    {
      "cell_type": "code",
      "source": [
        "data = {'A': [1, 2, 3], 'B': ['a', 'b', 'c']}\n",
        "df = pd.DataFrame(data)\n",
        "\n",
        "value = df.loc[:, 'B']\n",
        "print(value)"
      ],
      "metadata": {
        "colab": {
          "base_uri": "https://localhost:8080/"
        },
        "id": "tJgNsUHTItLU",
        "outputId": "30d1c8da-d1ae-473d-ad3f-ec6090c4b44c"
      },
      "execution_count": 7,
      "outputs": [
        {
          "output_type": "stream",
          "name": "stdout",
          "text": [
            "0    a\n",
            "1    b\n",
            "2    c\n",
            "Name: B, dtype: object\n"
          ]
        }
      ]
    },
    {
      "cell_type": "code",
      "source": [
        "from math import log2\n",
        "\n",
        "def calc_B(val):\n",
        "  if val == 1 or val == 0:\n",
        "    return 0\n",
        "\n",
        "  return -(val * log2(val) + (1 - val) * log2(1 - val))\n",
        "\n",
        "\n",
        "def importance(attr:str, examples:pd.DataFrame):\n",
        "  # based on entropy\n",
        "\n",
        "  # gain(A) = B(p/(p+n)) - Remainder(A)\n",
        "  # Remainder(A) = SIGMA(k=1, k=d)((pk + nk)/(p + n) * B(pk/(pk + nk)))\n",
        "  # B(q) = -(q log2(q) + (1 - q) log2(1-q))\n",
        "\n",
        "  branches = examples[attr].unique()\n",
        "  ReA = 0\n",
        "  p = len(examples[(examples.iloc[:,-1] == 1)])\n",
        "  n = len(examples[(examples.iloc[:,-1] == 0)])\n",
        "  val = p / (p+n)\n",
        "  B = calc_B(val)\n",
        "\n",
        "  for k in range(len(branches)):\n",
        "    temp = examples[(examples[attr] == branches[k])]\n",
        "    pk = len(temp[(temp.iloc[:,-1] == 1)])\n",
        "    nk = len(temp[(temp.iloc[:,-1] == 0)])\n",
        "    sigk = ((pk + nk) / (p + n)) * calc_B(pk / (pk + nk))\n",
        "    ReA += sigk\n",
        "\n",
        "  return B - ReA\n",
        "\n",
        "def calc_gini(zeros, ones) -> float:\n",
        "  all_ = zeros + ones\n",
        "  sigma = (zeros / all_) ** 2 + (ones / all_) ** 2\n",
        "  return 1 - sigma\n",
        "\n",
        "def importance_gini_index(attr:str, examples:pd.DataFrame):\n",
        "  # based on Gini index\n",
        "\n",
        "  # gini = 1 - SIGMA(i)(Pi ** 2)\n",
        "  zeros = len(examples[(examples.iloc[:,-1] == 0)])\n",
        "  ones = len(examples[(examples.iloc[:,-1] == 1)])\n",
        "  parent_gini = calc_gini(zeros, ones)\n",
        "\n",
        "  gini_sum = 0\n",
        "\n",
        "  branches = examples[attr].unique()\n",
        "\n",
        "  for choice in branches:\n",
        "    branch_exs = examples[(examples[attr] == choice)]\n",
        "    zeros = len(branch_exs[(branch_exs.iloc[:,-1] == 0)])\n",
        "    ones = len(branch_exs[(branch_exs.iloc[:,-1] == 1)])\n",
        "    gini_sum += calc_gini(zeros, ones)\n",
        "\n",
        "  gini_avg = gini_sum / len(branches)\n",
        "\n",
        "  return parent_gini - gini_avg\n"
      ],
      "metadata": {
        "id": "D2VLL2IL5sHw"
      },
      "execution_count": 9,
      "outputs": []
    },
    {
      "cell_type": "code",
      "source": [
        "def plurality_value(values:pd.DataFrame):\n",
        "  length = len(values)\n",
        "  return int(len(values[(values.iloc[:,-1] == 1)]) > (length / 2))"
      ],
      "metadata": {
        "id": "jnWRVRRV5xTn"
      },
      "execution_count": 10,
      "outputs": []
    },
    {
      "cell_type": "code",
      "source": [
        "def decision_tree_learn(examples:pd.DataFrame, attributes:pd.Series, parent_examples:pd.DataFrame, attribute_values:dict[str, list], use_gini=False):\n",
        "\n",
        "  if len(examples) == 0:\n",
        "    if len(parent_examples):\n",
        "      return plurality_value(parent_examples)\n",
        "    else:\n",
        "      return None\n",
        "\n",
        "  elif len(examples.iloc[:,-1].unique()) == 1:\n",
        "    return int(examples.iloc[0, -1])\n",
        "\n",
        "  elif len(attributes) == 0:\n",
        "    return plurality_value(examples)\n",
        "\n",
        "  else:\n",
        "\n",
        "    selected_attr = max(range(len(attributes)), key=\n",
        "                        lambda index:\n",
        "                          importance_gini_index(attributes[index], examples)\n",
        "                          if use_gini else\n",
        "                          importance(attributes[index], examples)\n",
        "                        )\n",
        "    selected_attr = attributes.pop(selected_attr)\n",
        "\n",
        "    if (val := prune(selected_attr, examples)) is not None:\n",
        "      return val\n",
        "\n",
        "    A = Node(selected_attr)\n",
        "    tree = Tree(A)\n",
        "\n",
        "    choices = attribute_values[selected_attr]\n",
        "\n",
        "    for choice in choices:\n",
        "      child_examples = examples[(examples[selected_attr] == choice)]\n",
        "      subtree = decision_tree_learn(child_examples, attributes, examples, attribute_values, use_gini)\n",
        "      A.add_child(subtree, choice)\n",
        "\n",
        "    return tree\n"
      ],
      "metadata": {
        "id": "WlkbjPoLq4ZB"
      },
      "execution_count": 11,
      "outputs": []
    },
    {
      "cell_type": "code",
      "source": [
        "importance_gini_index('type', rest_df)"
      ],
      "metadata": {
        "colab": {
          "base_uri": "https://localhost:8080/"
        },
        "id": "C7DiMeTqoFxF",
        "outputId": "a9b0aee4-0342-465f-9dfd-dba61f93d07d"
      },
      "execution_count": 12,
      "outputs": [
        {
          "output_type": "execute_result",
          "data": {
            "text/plain": [
              "0.0"
            ]
          },
          "metadata": {},
          "execution_count": 12
        }
      ]
    },
    {
      "cell_type": "code",
      "source": [
        "importance('type', rest_df)"
      ],
      "metadata": {
        "colab": {
          "base_uri": "https://localhost:8080/"
        },
        "id": "9cx51QJBDnJY",
        "outputId": "3913c241-976b-407b-e699-565407764f89"
      },
      "execution_count": 13,
      "outputs": [
        {
          "output_type": "execute_result",
          "data": {
            "text/plain": [
              "1.1102230246251565e-16"
            ]
          },
          "metadata": {},
          "execution_count": 13
        }
      ]
    },
    {
      "cell_type": "code",
      "source": [
        "def predict(tree:Tree, example:pd.Series):\n",
        "  node = tree.root\n",
        "\n",
        "  while not node.is_leaf():\n",
        "    attr_value = example[node.value]\n",
        "\n",
        "    for child in node.children:\n",
        "      if child.parent_choice == attr_value:\n",
        "        node = child\n",
        "        break\n",
        "\n",
        "  return node.value"
      ],
      "metadata": {
        "id": "MvrnQ_-1tbXy"
      },
      "execution_count": 14,
      "outputs": []
    },
    {
      "cell_type": "code",
      "source": [
        "def accuracy(tree: Tree, test_df: pd.DataFrame):\n",
        "  predicted_res = []\n",
        "  for index, row in test_df.iterrows():\n",
        "      predicted_res.append(predict(tree, row))\n",
        "\n",
        "  misses = 0\n",
        "  for i in range(len(predicted_res)):\n",
        "    if predicted_res[i] != test_df.iloc[i,-1]:\n",
        "      misses += 1\n",
        "\n",
        "  return 100 * (1 - misses / len(test_df))"
      ],
      "metadata": {
        "id": "MPZVFv8cvz-r"
      },
      "execution_count": 50,
      "outputs": []
    },
    {
      "cell_type": "code",
      "source": [
        "TRAIN_PORTION = 0.8\n",
        "\n",
        "rest_df_ones = rest_df[rest_df[\"result\"] == 1]\n",
        "rest_df_zeros = rest_df[rest_df[\"result\"] == 0]\n",
        "\n",
        "rest_rows_to_select_ones = int(len(rest_df_ones) * TRAIN_PORTION)\n",
        "rest_rows_to_select_zeros = int(len(rest_df_zeros) * TRAIN_PORTION)\n",
        "\n",
        "rest_train_data_ones = rest_df_ones.sample(n=rest_rows_to_select_ones, random_state=42)\n",
        "rest_train_data_zeros = rest_df_zeros.sample(n=rest_rows_to_select_zeros, random_state=42)"
      ],
      "metadata": {
        "id": "u7R_9pCX6Pvs"
      },
      "execution_count": 51,
      "outputs": []
    },
    {
      "cell_type": "code",
      "source": [
        "rest_train_df = pd.concat([rest_train_data_ones, rest_train_data_zeros])\n",
        "rest_test_df = rest_df.drop(rest_train_df.index)"
      ],
      "metadata": {
        "id": "opzTcFq066sS"
      },
      "execution_count": 52,
      "outputs": []
    },
    {
      "cell_type": "code",
      "source": [
        "attr_values = {}\n",
        "for col in rest_df.columns:\n",
        "  attr_values[col] = rest_df[col].unique()\n",
        "\n",
        "tree = decision_tree_learn(rest_train_df, list(rest_train_df.columns)[:-1], pd.DataFrame([]), attr_values)\n",
        "\n",
        "print(\"Acc(entropy):\", accuracy(tree, rest_test_df))"
      ],
      "metadata": {
        "colab": {
          "base_uri": "https://localhost:8080/"
        },
        "id": "7bVIMzUbyfSs",
        "outputId": "c8bfba8c-2ad0-43ac-c1ef-05f113148241"
      },
      "execution_count": 53,
      "outputs": [
        {
          "output_type": "stream",
          "name": "stdout",
          "text": [
            "Acc(entropy): 75.0\n"
          ]
        }
      ]
    },
    {
      "cell_type": "code",
      "source": [
        "print(tree)"
      ],
      "metadata": {
        "colab": {
          "base_uri": "https://localhost:8080/"
        },
        "id": "NtDmo9nN9FUn",
        "outputId": "e6aa0373-64dd-496f-aabb-0eb7078a08c8"
      },
      "execution_count": 54,
      "outputs": [
        {
          "output_type": "stream",
          "name": "stdout",
          "text": [
            "node: pat\n",
            "children:\n",
            "    parent_choice: some | ch0: 1\n",
            "    parent_choice: full | ch1: type\n",
            "    parent_choice: none | ch2: 0\n",
            "----------------------\n",
            "node: type\n",
            "children:\n",
            "    parent_choice: 0 | ch0: 0\n",
            "    parent_choice: 1 | ch1: fri\n",
            "    parent_choice: 2 | ch2: 1\n",
            "    parent_choice: 3 | ch3: 0\n",
            "----------------------\n",
            "node: fri\n",
            "children:\n",
            "    parent_choice: 0 | ch0: 0\n",
            "    parent_choice: 1 | ch1: 1\n",
            "----------------------\n",
            "\n"
          ]
        }
      ]
    },
    {
      "cell_type": "code",
      "source": [
        "tree = decision_tree_learn(rest_train_df, list(rest_train_df.columns)[:-1], pd.DataFrame([]), attr_values, True)\n",
        "\n",
        "print(\"Acc(gini):\", accuracy(tree, rest_test_df))"
      ],
      "metadata": {
        "colab": {
          "base_uri": "https://localhost:8080/"
        },
        "id": "r7fHvg_TDzBS",
        "outputId": "57517a72-e91a-4794-89cb-aa2e7dfc3d08"
      },
      "execution_count": 55,
      "outputs": [
        {
          "output_type": "stream",
          "name": "stdout",
          "text": [
            "Acc(gini): 75.0\n"
          ]
        }
      ]
    },
    {
      "cell_type": "code",
      "source": [
        "print(tree)"
      ],
      "metadata": {
        "colab": {
          "base_uri": "https://localhost:8080/"
        },
        "id": "OOo3b2F39f6z",
        "outputId": "3b5e60d7-9c89-4e03-df8c-b27ea490849d"
      },
      "execution_count": 56,
      "outputs": [
        {
          "output_type": "stream",
          "name": "stdout",
          "text": [
            "node: pat\n",
            "children:\n",
            "    parent_choice: some | ch0: 1\n",
            "    parent_choice: full | ch1: type\n",
            "    parent_choice: none | ch2: 0\n",
            "----------------------\n",
            "node: type\n",
            "children:\n",
            "    parent_choice: 0 | ch0: 0\n",
            "    parent_choice: 1 | ch1: fri\n",
            "    parent_choice: 2 | ch2: 1\n",
            "    parent_choice: 3 | ch3: 0\n",
            "----------------------\n",
            "node: fri\n",
            "children:\n",
            "    parent_choice: 0 | ch0: 0\n",
            "    parent_choice: 1 | ch1: 1\n",
            "----------------------\n",
            "\n"
          ]
        }
      ]
    },
    {
      "cell_type": "code",
      "source": [
        "air_df = pd.read_csv(\"Airplane.csv\")\n",
        "air_df.head()"
      ],
      "metadata": {
        "colab": {
          "base_uri": "https://localhost:8080/",
          "height": 395
        },
        "id": "qug0pW-F1Fyh",
        "outputId": "8a08166c-83bd-48fc-a037-f9afec2e2a47"
      },
      "execution_count": 57,
      "outputs": [
        {
          "output_type": "execute_result",
          "data": {
            "text/plain": [
              "   Unnamed: 0      id  Gender      Customer Type  Age   Type of Travel  \\\n",
              "0           0   70172    Male     Loyal Customer   13  Personal Travel   \n",
              "1           1    5047    Male  disloyal Customer   25  Business travel   \n",
              "2           2  110028  Female     Loyal Customer   26  Business travel   \n",
              "3           3   24026  Female     Loyal Customer   25  Business travel   \n",
              "4           4  119299    Male     Loyal Customer   61  Business travel   \n",
              "\n",
              "      Class  Flight Distance  Inflight wifi service  \\\n",
              "0  Eco Plus              460                      3   \n",
              "1  Business              235                      3   \n",
              "2  Business             1142                      2   \n",
              "3  Business              562                      2   \n",
              "4  Business              214                      3   \n",
              "\n",
              "   Departure/Arrival time convenient  ...  Inflight entertainment  \\\n",
              "0                                  4  ...                       5   \n",
              "1                                  2  ...                       1   \n",
              "2                                  2  ...                       5   \n",
              "3                                  5  ...                       2   \n",
              "4                                  3  ...                       3   \n",
              "\n",
              "   On-board service  Leg room service  Baggage handling  Checkin service  \\\n",
              "0                 4                 3                 4                4   \n",
              "1                 1                 5                 3                1   \n",
              "2                 4                 3                 4                4   \n",
              "3                 2                 5                 3                1   \n",
              "4                 3                 4                 4                3   \n",
              "\n",
              "   Inflight service  Cleanliness  Departure Delay in Minutes  \\\n",
              "0                 5            5                          25   \n",
              "1                 4            1                           1   \n",
              "2                 4            5                           0   \n",
              "3                 4            2                          11   \n",
              "4                 3            3                           0   \n",
              "\n",
              "   Arrival Delay in Minutes             satisfaction  \n",
              "0                      18.0  neutral or dissatisfied  \n",
              "1                       6.0  neutral or dissatisfied  \n",
              "2                       0.0                satisfied  \n",
              "3                       9.0  neutral or dissatisfied  \n",
              "4                       0.0                satisfied  \n",
              "\n",
              "[5 rows x 25 columns]"
            ],
            "text/html": [
              "\n",
              "  <div id=\"df-ac826c48-2426-4718-88d8-24d3493e141d\" class=\"colab-df-container\">\n",
              "    <div>\n",
              "<style scoped>\n",
              "    .dataframe tbody tr th:only-of-type {\n",
              "        vertical-align: middle;\n",
              "    }\n",
              "\n",
              "    .dataframe tbody tr th {\n",
              "        vertical-align: top;\n",
              "    }\n",
              "\n",
              "    .dataframe thead th {\n",
              "        text-align: right;\n",
              "    }\n",
              "</style>\n",
              "<table border=\"1\" class=\"dataframe\">\n",
              "  <thead>\n",
              "    <tr style=\"text-align: right;\">\n",
              "      <th></th>\n",
              "      <th>Unnamed: 0</th>\n",
              "      <th>id</th>\n",
              "      <th>Gender</th>\n",
              "      <th>Customer Type</th>\n",
              "      <th>Age</th>\n",
              "      <th>Type of Travel</th>\n",
              "      <th>Class</th>\n",
              "      <th>Flight Distance</th>\n",
              "      <th>Inflight wifi service</th>\n",
              "      <th>Departure/Arrival time convenient</th>\n",
              "      <th>...</th>\n",
              "      <th>Inflight entertainment</th>\n",
              "      <th>On-board service</th>\n",
              "      <th>Leg room service</th>\n",
              "      <th>Baggage handling</th>\n",
              "      <th>Checkin service</th>\n",
              "      <th>Inflight service</th>\n",
              "      <th>Cleanliness</th>\n",
              "      <th>Departure Delay in Minutes</th>\n",
              "      <th>Arrival Delay in Minutes</th>\n",
              "      <th>satisfaction</th>\n",
              "    </tr>\n",
              "  </thead>\n",
              "  <tbody>\n",
              "    <tr>\n",
              "      <th>0</th>\n",
              "      <td>0</td>\n",
              "      <td>70172</td>\n",
              "      <td>Male</td>\n",
              "      <td>Loyal Customer</td>\n",
              "      <td>13</td>\n",
              "      <td>Personal Travel</td>\n",
              "      <td>Eco Plus</td>\n",
              "      <td>460</td>\n",
              "      <td>3</td>\n",
              "      <td>4</td>\n",
              "      <td>...</td>\n",
              "      <td>5</td>\n",
              "      <td>4</td>\n",
              "      <td>3</td>\n",
              "      <td>4</td>\n",
              "      <td>4</td>\n",
              "      <td>5</td>\n",
              "      <td>5</td>\n",
              "      <td>25</td>\n",
              "      <td>18.0</td>\n",
              "      <td>neutral or dissatisfied</td>\n",
              "    </tr>\n",
              "    <tr>\n",
              "      <th>1</th>\n",
              "      <td>1</td>\n",
              "      <td>5047</td>\n",
              "      <td>Male</td>\n",
              "      <td>disloyal Customer</td>\n",
              "      <td>25</td>\n",
              "      <td>Business travel</td>\n",
              "      <td>Business</td>\n",
              "      <td>235</td>\n",
              "      <td>3</td>\n",
              "      <td>2</td>\n",
              "      <td>...</td>\n",
              "      <td>1</td>\n",
              "      <td>1</td>\n",
              "      <td>5</td>\n",
              "      <td>3</td>\n",
              "      <td>1</td>\n",
              "      <td>4</td>\n",
              "      <td>1</td>\n",
              "      <td>1</td>\n",
              "      <td>6.0</td>\n",
              "      <td>neutral or dissatisfied</td>\n",
              "    </tr>\n",
              "    <tr>\n",
              "      <th>2</th>\n",
              "      <td>2</td>\n",
              "      <td>110028</td>\n",
              "      <td>Female</td>\n",
              "      <td>Loyal Customer</td>\n",
              "      <td>26</td>\n",
              "      <td>Business travel</td>\n",
              "      <td>Business</td>\n",
              "      <td>1142</td>\n",
              "      <td>2</td>\n",
              "      <td>2</td>\n",
              "      <td>...</td>\n",
              "      <td>5</td>\n",
              "      <td>4</td>\n",
              "      <td>3</td>\n",
              "      <td>4</td>\n",
              "      <td>4</td>\n",
              "      <td>4</td>\n",
              "      <td>5</td>\n",
              "      <td>0</td>\n",
              "      <td>0.0</td>\n",
              "      <td>satisfied</td>\n",
              "    </tr>\n",
              "    <tr>\n",
              "      <th>3</th>\n",
              "      <td>3</td>\n",
              "      <td>24026</td>\n",
              "      <td>Female</td>\n",
              "      <td>Loyal Customer</td>\n",
              "      <td>25</td>\n",
              "      <td>Business travel</td>\n",
              "      <td>Business</td>\n",
              "      <td>562</td>\n",
              "      <td>2</td>\n",
              "      <td>5</td>\n",
              "      <td>...</td>\n",
              "      <td>2</td>\n",
              "      <td>2</td>\n",
              "      <td>5</td>\n",
              "      <td>3</td>\n",
              "      <td>1</td>\n",
              "      <td>4</td>\n",
              "      <td>2</td>\n",
              "      <td>11</td>\n",
              "      <td>9.0</td>\n",
              "      <td>neutral or dissatisfied</td>\n",
              "    </tr>\n",
              "    <tr>\n",
              "      <th>4</th>\n",
              "      <td>4</td>\n",
              "      <td>119299</td>\n",
              "      <td>Male</td>\n",
              "      <td>Loyal Customer</td>\n",
              "      <td>61</td>\n",
              "      <td>Business travel</td>\n",
              "      <td>Business</td>\n",
              "      <td>214</td>\n",
              "      <td>3</td>\n",
              "      <td>3</td>\n",
              "      <td>...</td>\n",
              "      <td>3</td>\n",
              "      <td>3</td>\n",
              "      <td>4</td>\n",
              "      <td>4</td>\n",
              "      <td>3</td>\n",
              "      <td>3</td>\n",
              "      <td>3</td>\n",
              "      <td>0</td>\n",
              "      <td>0.0</td>\n",
              "      <td>satisfied</td>\n",
              "    </tr>\n",
              "  </tbody>\n",
              "</table>\n",
              "<p>5 rows × 25 columns</p>\n",
              "</div>\n",
              "    <div class=\"colab-df-buttons\">\n",
              "\n",
              "  <div class=\"colab-df-container\">\n",
              "    <button class=\"colab-df-convert\" onclick=\"convertToInteractive('df-ac826c48-2426-4718-88d8-24d3493e141d')\"\n",
              "            title=\"Convert this dataframe to an interactive table.\"\n",
              "            style=\"display:none;\">\n",
              "\n",
              "  <svg xmlns=\"http://www.w3.org/2000/svg\" height=\"24px\" viewBox=\"0 -960 960 960\">\n",
              "    <path d=\"M120-120v-720h720v720H120Zm60-500h600v-160H180v160Zm220 220h160v-160H400v160Zm0 220h160v-160H400v160ZM180-400h160v-160H180v160Zm440 0h160v-160H620v160ZM180-180h160v-160H180v160Zm440 0h160v-160H620v160Z\"/>\n",
              "  </svg>\n",
              "    </button>\n",
              "\n",
              "  <style>\n",
              "    .colab-df-container {\n",
              "      display:flex;\n",
              "      gap: 12px;\n",
              "    }\n",
              "\n",
              "    .colab-df-convert {\n",
              "      background-color: #E8F0FE;\n",
              "      border: none;\n",
              "      border-radius: 50%;\n",
              "      cursor: pointer;\n",
              "      display: none;\n",
              "      fill: #1967D2;\n",
              "      height: 32px;\n",
              "      padding: 0 0 0 0;\n",
              "      width: 32px;\n",
              "    }\n",
              "\n",
              "    .colab-df-convert:hover {\n",
              "      background-color: #E2EBFA;\n",
              "      box-shadow: 0px 1px 2px rgba(60, 64, 67, 0.3), 0px 1px 3px 1px rgba(60, 64, 67, 0.15);\n",
              "      fill: #174EA6;\n",
              "    }\n",
              "\n",
              "    .colab-df-buttons div {\n",
              "      margin-bottom: 4px;\n",
              "    }\n",
              "\n",
              "    [theme=dark] .colab-df-convert {\n",
              "      background-color: #3B4455;\n",
              "      fill: #D2E3FC;\n",
              "    }\n",
              "\n",
              "    [theme=dark] .colab-df-convert:hover {\n",
              "      background-color: #434B5C;\n",
              "      box-shadow: 0px 1px 3px 1px rgba(0, 0, 0, 0.15);\n",
              "      filter: drop-shadow(0px 1px 2px rgba(0, 0, 0, 0.3));\n",
              "      fill: #FFFFFF;\n",
              "    }\n",
              "  </style>\n",
              "\n",
              "    <script>\n",
              "      const buttonEl =\n",
              "        document.querySelector('#df-ac826c48-2426-4718-88d8-24d3493e141d button.colab-df-convert');\n",
              "      buttonEl.style.display =\n",
              "        google.colab.kernel.accessAllowed ? 'block' : 'none';\n",
              "\n",
              "      async function convertToInteractive(key) {\n",
              "        const element = document.querySelector('#df-ac826c48-2426-4718-88d8-24d3493e141d');\n",
              "        const dataTable =\n",
              "          await google.colab.kernel.invokeFunction('convertToInteractive',\n",
              "                                                    [key], {});\n",
              "        if (!dataTable) return;\n",
              "\n",
              "        const docLinkHtml = 'Like what you see? Visit the ' +\n",
              "          '<a target=\"_blank\" href=https://colab.research.google.com/notebooks/data_table.ipynb>data table notebook</a>'\n",
              "          + ' to learn more about interactive tables.';\n",
              "        element.innerHTML = '';\n",
              "        dataTable['output_type'] = 'display_data';\n",
              "        await google.colab.output.renderOutput(dataTable, element);\n",
              "        const docLink = document.createElement('div');\n",
              "        docLink.innerHTML = docLinkHtml;\n",
              "        element.appendChild(docLink);\n",
              "      }\n",
              "    </script>\n",
              "  </div>\n",
              "\n",
              "\n",
              "<div id=\"df-e6f721b5-18cd-464e-ac42-1196a86aae4e\">\n",
              "  <button class=\"colab-df-quickchart\" onclick=\"quickchart('df-e6f721b5-18cd-464e-ac42-1196a86aae4e')\"\n",
              "            title=\"Suggest charts.\"\n",
              "            style=\"display:none;\">\n",
              "\n",
              "<svg xmlns=\"http://www.w3.org/2000/svg\" height=\"24px\"viewBox=\"0 0 24 24\"\n",
              "     width=\"24px\">\n",
              "    <g>\n",
              "        <path d=\"M19 3H5c-1.1 0-2 .9-2 2v14c0 1.1.9 2 2 2h14c1.1 0 2-.9 2-2V5c0-1.1-.9-2-2-2zM9 17H7v-7h2v7zm4 0h-2V7h2v10zm4 0h-2v-4h2v4z\"/>\n",
              "    </g>\n",
              "</svg>\n",
              "  </button>\n",
              "\n",
              "<style>\n",
              "  .colab-df-quickchart {\n",
              "      --bg-color: #E8F0FE;\n",
              "      --fill-color: #1967D2;\n",
              "      --hover-bg-color: #E2EBFA;\n",
              "      --hover-fill-color: #174EA6;\n",
              "      --disabled-fill-color: #AAA;\n",
              "      --disabled-bg-color: #DDD;\n",
              "  }\n",
              "\n",
              "  [theme=dark] .colab-df-quickchart {\n",
              "      --bg-color: #3B4455;\n",
              "      --fill-color: #D2E3FC;\n",
              "      --hover-bg-color: #434B5C;\n",
              "      --hover-fill-color: #FFFFFF;\n",
              "      --disabled-bg-color: #3B4455;\n",
              "      --disabled-fill-color: #666;\n",
              "  }\n",
              "\n",
              "  .colab-df-quickchart {\n",
              "    background-color: var(--bg-color);\n",
              "    border: none;\n",
              "    border-radius: 50%;\n",
              "    cursor: pointer;\n",
              "    display: none;\n",
              "    fill: var(--fill-color);\n",
              "    height: 32px;\n",
              "    padding: 0;\n",
              "    width: 32px;\n",
              "  }\n",
              "\n",
              "  .colab-df-quickchart:hover {\n",
              "    background-color: var(--hover-bg-color);\n",
              "    box-shadow: 0 1px 2px rgba(60, 64, 67, 0.3), 0 1px 3px 1px rgba(60, 64, 67, 0.15);\n",
              "    fill: var(--button-hover-fill-color);\n",
              "  }\n",
              "\n",
              "  .colab-df-quickchart-complete:disabled,\n",
              "  .colab-df-quickchart-complete:disabled:hover {\n",
              "    background-color: var(--disabled-bg-color);\n",
              "    fill: var(--disabled-fill-color);\n",
              "    box-shadow: none;\n",
              "  }\n",
              "\n",
              "  .colab-df-spinner {\n",
              "    border: 2px solid var(--fill-color);\n",
              "    border-color: transparent;\n",
              "    border-bottom-color: var(--fill-color);\n",
              "    animation:\n",
              "      spin 1s steps(1) infinite;\n",
              "  }\n",
              "\n",
              "  @keyframes spin {\n",
              "    0% {\n",
              "      border-color: transparent;\n",
              "      border-bottom-color: var(--fill-color);\n",
              "      border-left-color: var(--fill-color);\n",
              "    }\n",
              "    20% {\n",
              "      border-color: transparent;\n",
              "      border-left-color: var(--fill-color);\n",
              "      border-top-color: var(--fill-color);\n",
              "    }\n",
              "    30% {\n",
              "      border-color: transparent;\n",
              "      border-left-color: var(--fill-color);\n",
              "      border-top-color: var(--fill-color);\n",
              "      border-right-color: var(--fill-color);\n",
              "    }\n",
              "    40% {\n",
              "      border-color: transparent;\n",
              "      border-right-color: var(--fill-color);\n",
              "      border-top-color: var(--fill-color);\n",
              "    }\n",
              "    60% {\n",
              "      border-color: transparent;\n",
              "      border-right-color: var(--fill-color);\n",
              "    }\n",
              "    80% {\n",
              "      border-color: transparent;\n",
              "      border-right-color: var(--fill-color);\n",
              "      border-bottom-color: var(--fill-color);\n",
              "    }\n",
              "    90% {\n",
              "      border-color: transparent;\n",
              "      border-bottom-color: var(--fill-color);\n",
              "    }\n",
              "  }\n",
              "</style>\n",
              "\n",
              "  <script>\n",
              "    async function quickchart(key) {\n",
              "      const quickchartButtonEl =\n",
              "        document.querySelector('#' + key + ' button');\n",
              "      quickchartButtonEl.disabled = true;  // To prevent multiple clicks.\n",
              "      quickchartButtonEl.classList.add('colab-df-spinner');\n",
              "      try {\n",
              "        const charts = await google.colab.kernel.invokeFunction(\n",
              "            'suggestCharts', [key], {});\n",
              "      } catch (error) {\n",
              "        console.error('Error during call to suggestCharts:', error);\n",
              "      }\n",
              "      quickchartButtonEl.classList.remove('colab-df-spinner');\n",
              "      quickchartButtonEl.classList.add('colab-df-quickchart-complete');\n",
              "    }\n",
              "    (() => {\n",
              "      let quickchartButtonEl =\n",
              "        document.querySelector('#df-e6f721b5-18cd-464e-ac42-1196a86aae4e button');\n",
              "      quickchartButtonEl.style.display =\n",
              "        google.colab.kernel.accessAllowed ? 'block' : 'none';\n",
              "    })();\n",
              "  </script>\n",
              "</div>\n",
              "    </div>\n",
              "  </div>\n"
            ]
          },
          "metadata": {},
          "execution_count": 57
        }
      ]
    },
    {
      "cell_type": "code",
      "source": [
        "air_df['satisfaction'].unique()"
      ],
      "metadata": {
        "colab": {
          "base_uri": "https://localhost:8080/"
        },
        "id": "zvs8uCoOGv9z",
        "outputId": "3a14b7ea-2d17-4a8e-e000-fe61f9845d39"
      },
      "execution_count": 58,
      "outputs": [
        {
          "output_type": "execute_result",
          "data": {
            "text/plain": [
              "array(['neutral or dissatisfied', 'satisfied'], dtype=object)"
            ]
          },
          "metadata": {},
          "execution_count": 58
        }
      ]
    },
    {
      "cell_type": "code",
      "source": [
        "air_df['satisfaction'] = air_df['satisfaction'].map({\"neutral or dissatisfied\": 0, \"satisfied\": 1})"
      ],
      "metadata": {
        "id": "izMHWgPFIa7n"
      },
      "execution_count": 59,
      "outputs": []
    },
    {
      "cell_type": "code",
      "source": [
        "air_df['satisfaction'].unique()"
      ],
      "metadata": {
        "colab": {
          "base_uri": "https://localhost:8080/"
        },
        "id": "MipfK0XpIj5R",
        "outputId": "f1eb6f8c-5532-4f90-f4b4-83bab2943df0"
      },
      "execution_count": 60,
      "outputs": [
        {
          "output_type": "execute_result",
          "data": {
            "text/plain": [
              "array([0, 1])"
            ]
          },
          "metadata": {},
          "execution_count": 60
        }
      ]
    },
    {
      "cell_type": "code",
      "source": [
        "air_df.shape[0]"
      ],
      "metadata": {
        "colab": {
          "base_uri": "https://localhost:8080/"
        },
        "id": "eWfNExX9HEyI",
        "outputId": "48634181-f80f-4a66-d81e-361c2835e1bb"
      },
      "execution_count": 61,
      "outputs": [
        {
          "output_type": "execute_result",
          "data": {
            "text/plain": [
              "103904"
            ]
          },
          "metadata": {},
          "execution_count": 61
        }
      ]
    },
    {
      "cell_type": "code",
      "source": [
        "max(air_df['Flight Distance'])"
      ],
      "metadata": {
        "colab": {
          "base_uri": "https://localhost:8080/"
        },
        "id": "0Ls123841gv1",
        "outputId": "2dfe7687-5300-4ad7-ec86-c8c0eb09936f"
      },
      "execution_count": 62,
      "outputs": [
        {
          "output_type": "execute_result",
          "data": {
            "text/plain": [
              "4983"
            ]
          },
          "metadata": {},
          "execution_count": 62
        }
      ]
    },
    {
      "cell_type": "code",
      "source": [
        "min(air_df['Flight Distance'])"
      ],
      "metadata": {
        "colab": {
          "base_uri": "https://localhost:8080/"
        },
        "id": "Se3lRQ6j19SR",
        "outputId": "64b4fbd9-83c3-4ba7-bba3-d2c21663cc3b"
      },
      "execution_count": 63,
      "outputs": [
        {
          "output_type": "execute_result",
          "data": {
            "text/plain": [
              "31"
            ]
          },
          "metadata": {},
          "execution_count": 63
        }
      ]
    },
    {
      "cell_type": "code",
      "source": [
        "def spectrum_to_descrete_mapper(value: int, _range, chunk_number: int = 10):\n",
        "  \"\"\"\n",
        "  calculates the location of the <value> in the range <_range>\n",
        "  and returns a number between 0 and chunk_number -1\n",
        "  \"\"\"\n",
        "  percent = value / _range * chunk_number\n",
        "  return math.floor(percent)"
      ],
      "metadata": {
        "id": "ELStcGbDHtja"
      },
      "execution_count": 101,
      "outputs": []
    },
    {
      "cell_type": "code",
      "source": [
        "max_flight_distance = max(air_df[\"Flight Distance\"])\n",
        "min_flight_distance = min(air_df[\"Flight Distance\"])\n",
        "flight_distance_range = max_flight_distance - min_flight_distance\n",
        "air_df[\"Flight Distance\"] = air_df['Flight Distance'].map(lambda value: spectrum_to_descrete_mapper(value, flight_distance_range, 10))"
      ],
      "metadata": {
        "id": "xuwsCIjvJuAa"
      },
      "execution_count": 102,
      "outputs": []
    },
    {
      "cell_type": "code",
      "source": [
        "air_df[\"Customer Type\"] = air_df[\"Customer Type\"].map({\"Loyal Customer\": 1, \"disloyal Customer\": 0})"
      ],
      "metadata": {
        "id": "9F20-s4cLGY9"
      },
      "execution_count": 103,
      "outputs": []
    },
    {
      "cell_type": "code",
      "source": [
        "air_df[\"Gender\"] = air_df[\"Gender\"].map({\"Male\": 1, \"Female\": 0})"
      ],
      "metadata": {
        "id": "fgAS5ez_LluN"
      },
      "execution_count": 67,
      "outputs": []
    },
    {
      "cell_type": "code",
      "source": [
        "max_age = max(air_df['Age'])\n",
        "min_age = min(air_df['Age'])\n",
        "age_range = max_age - min_age\n",
        "air_df[\"Age\"] = air_df[\"Age\"].map(lambda value: spectrum_to_descrete_mapper(value, age_range, 10))"
      ],
      "metadata": {
        "id": "R_NIhsDBMByl"
      },
      "execution_count": 68,
      "outputs": []
    },
    {
      "cell_type": "code",
      "source": [
        "air_df[\"Type of Travel\"] = air_df[\"Type of Travel\"].map({\"Personal Travel\": 1, \"Business travel\": 0})"
      ],
      "metadata": {
        "id": "Mc6PsXdsNcNg"
      },
      "execution_count": 69,
      "outputs": []
    },
    {
      "cell_type": "code",
      "source": [
        "air_df[\"Class\"] = air_df[\"Class\"].map({\"Eco Plus\": 0, \"Business\": 1, \"Eco\": 2})"
      ],
      "metadata": {
        "id": "S32WkzDtNzpk"
      },
      "execution_count": 70,
      "outputs": []
    },
    {
      "cell_type": "code",
      "source": [
        "min(air_df[\"Departure Delay in Minutes\"])"
      ],
      "metadata": {
        "colab": {
          "base_uri": "https://localhost:8080/"
        },
        "id": "x2TeibrrOQ5K",
        "outputId": "2a1f5149-823d-4f95-f4f6-2d49191b1756"
      },
      "execution_count": 71,
      "outputs": [
        {
          "output_type": "execute_result",
          "data": {
            "text/plain": [
              "0"
            ]
          },
          "metadata": {},
          "execution_count": 71
        }
      ]
    },
    {
      "cell_type": "code",
      "source": [
        "max(air_df[\"Departure Delay in Minutes\"])"
      ],
      "metadata": {
        "colab": {
          "base_uri": "https://localhost:8080/"
        },
        "id": "XQlf_QIqOYlH",
        "outputId": "110386fe-cba8-4117-af38-c8cb566185ed"
      },
      "execution_count": 72,
      "outputs": [
        {
          "output_type": "execute_result",
          "data": {
            "text/plain": [
              "1592"
            ]
          },
          "metadata": {},
          "execution_count": 72
        }
      ]
    },
    {
      "cell_type": "code",
      "source": [
        "air_df[\"Departure Delay in Minutes\"].mean()"
      ],
      "metadata": {
        "colab": {
          "base_uri": "https://localhost:8080/"
        },
        "id": "1U1v5qQrOa1H",
        "outputId": "97c21da4-ae12-4f1f-c24a-1f7fb936257f"
      },
      "execution_count": 73,
      "outputs": [
        {
          "output_type": "execute_result",
          "data": {
            "text/plain": [
              "14.815618263012011"
            ]
          },
          "metadata": {},
          "execution_count": 73
        }
      ]
    },
    {
      "cell_type": "code",
      "source": [
        "max_delay = max(air_df['Departure Delay in Minutes'])\n",
        "min_delay = min(air_df['Departure Delay in Minutes'])\n",
        "delay_range = max_delay - min_delay\n",
        "air_df[\"Departure Delay in Minutes\"] = air_df[\"Departure Delay in Minutes\"]\\\n",
        ".map(lambda value: spectrum_to_descrete_mapper(value, delay_range, 5))"
      ],
      "metadata": {
        "id": "25LtuvV3Og3-"
      },
      "execution_count": 74,
      "outputs": []
    },
    {
      "cell_type": "code",
      "source": [
        "min(air_df[\"Arrival Delay in Minutes\"])"
      ],
      "metadata": {
        "colab": {
          "base_uri": "https://localhost:8080/"
        },
        "id": "BcSRIYvuPx-Y",
        "outputId": "d90b79c5-d9ce-43ed-da1e-84970f724bc4"
      },
      "execution_count": 75,
      "outputs": [
        {
          "output_type": "execute_result",
          "data": {
            "text/plain": [
              "0.0"
            ]
          },
          "metadata": {},
          "execution_count": 75
        }
      ]
    },
    {
      "cell_type": "code",
      "source": [
        "max(air_df[\"Arrival Delay in Minutes\"])"
      ],
      "metadata": {
        "colab": {
          "base_uri": "https://localhost:8080/"
        },
        "id": "A1cvqDsnP0ie",
        "outputId": "ef8b48d6-2c3c-415e-e4a8-138f5b1b7d9b"
      },
      "execution_count": 76,
      "outputs": [
        {
          "output_type": "execute_result",
          "data": {
            "text/plain": [
              "1584.0"
            ]
          },
          "metadata": {},
          "execution_count": 76
        }
      ]
    },
    {
      "cell_type": "code",
      "source": [
        "air_df[\"Arrival Delay in Minutes\"].mean()"
      ],
      "metadata": {
        "colab": {
          "base_uri": "https://localhost:8080/"
        },
        "id": "ADmFmdiXP3Q-",
        "outputId": "ebc6cbf2-4919-4fb0-88ea-88cbf99f6ca1"
      },
      "execution_count": 77,
      "outputs": [
        {
          "output_type": "execute_result",
          "data": {
            "text/plain": [
              "15.178678301832152"
            ]
          },
          "metadata": {},
          "execution_count": 77
        }
      ]
    },
    {
      "cell_type": "code",
      "source": [
        "arrival_delay_in_minutes_mean = air_df[\"Arrival Delay in Minutes\"].mean()\n",
        "air_df[\"Arrival Delay in Minutes\"] = air_df[\"Arrival Delay in Minutes\"]\\\n",
        ".map(lambda value: value if value > 0 else arrival_delay_in_minutes_mean)"
      ],
      "metadata": {
        "id": "IXnNfBYEQPtU"
      },
      "execution_count": 78,
      "outputs": []
    },
    {
      "cell_type": "code",
      "source": [
        "max_delay = max(air_df['Arrival Delay in Minutes'])\n",
        "min_delay = min(air_df['Arrival Delay in Minutes'])\n",
        "delay_range = max_delay - min_delay\n",
        "air_df[\"Arrival Delay in Minutes\"] = air_df[\"Arrival Delay in Minutes\"]\\\n",
        ".map(lambda value: spectrum_to_descrete_mapper(value, delay_range, 5))"
      ],
      "metadata": {
        "id": "VvGEuNgOP_-H"
      },
      "execution_count": 79,
      "outputs": []
    },
    {
      "cell_type": "code",
      "source": [
        "air_df.columns"
      ],
      "metadata": {
        "colab": {
          "base_uri": "https://localhost:8080/"
        },
        "id": "T4U7siEQSGz1",
        "outputId": "a242d2ca-675d-46b8-b40b-c29f9f294163"
      },
      "execution_count": 80,
      "outputs": [
        {
          "output_type": "execute_result",
          "data": {
            "text/plain": [
              "Index(['Unnamed: 0', 'id', 'Gender', 'Customer Type', 'Age', 'Type of Travel',\n",
              "       'Class', 'Flight Distance', 'Inflight wifi service',\n",
              "       'Departure/Arrival time convenient', 'Ease of Online booking',\n",
              "       'Gate location', 'Food and drink', 'Online boarding', 'Seat comfort',\n",
              "       'Inflight entertainment', 'On-board service', 'Leg room service',\n",
              "       'Baggage handling', 'Checkin service', 'Inflight service',\n",
              "       'Cleanliness', 'Departure Delay in Minutes', 'Arrival Delay in Minutes',\n",
              "       'satisfaction'],\n",
              "      dtype='object')"
            ]
          },
          "metadata": {},
          "execution_count": 80
        }
      ]
    },
    {
      "cell_type": "code",
      "source": [
        "list_of_required_cols = list(air_df.columns)[2:]\n",
        "air_df = air_df[list_of_required_cols]"
      ],
      "metadata": {
        "id": "LD0jy1sc1zZ2"
      },
      "execution_count": 81,
      "outputs": []
    },
    {
      "cell_type": "code",
      "source": [
        "TRAIN_PORTION = 0.8\n",
        "\n",
        "air_df_ones = air_df[air_df[\"satisfaction\"] == 1]\n",
        "air_df_zeros = air_df[air_df[\"satisfaction\"] == 0]\n",
        "\n",
        "rows_to_select_ones = int(len(air_df_ones) * TRAIN_PORTION)\n",
        "rows_to_select_zeros = int(len(air_df_zeros) * TRAIN_PORTION)\n",
        "\n",
        "train_data_ones = air_df_ones.sample(n=rows_to_select_ones, random_state=10)\n",
        "train_data_zeros = air_df_zeros.sample(n=rows_to_select_zeros, random_state=10)"
      ],
      "metadata": {
        "id": "SfwrKfwm5Tm5"
      },
      "execution_count": 94,
      "outputs": []
    },
    {
      "cell_type": "code",
      "source": [
        "train_df = pd.concat([train_data_ones, train_data_zeros])\n",
        "test_df = air_df.drop(train_df.index)"
      ],
      "metadata": {
        "id": "ByYGBO8I6Nhy"
      },
      "execution_count": 95,
      "outputs": []
    },
    {
      "cell_type": "code",
      "source": [
        "attr_values = {}\n",
        "for col in air_df.columns:\n",
        "  attr_values[col] = air_df[col].unique()\n",
        "\n",
        "tree = decision_tree_learn(train_df, list(train_df.columns)[:-1], pd.DataFrame([]), attr_values, False)\n",
        "print(\"Acc(entropy):\", accuracy(tree, test_df))"
      ],
      "metadata": {
        "id": "Q5xiufR26YBd",
        "colab": {
          "base_uri": "https://localhost:8080/"
        },
        "outputId": "47052b06-6202-44dc-ce92-3b6ad3cc6afb"
      },
      "execution_count": 96,
      "outputs": [
        {
          "output_type": "stream",
          "name": "stdout",
          "text": [
            "Acc(entropy): 82.75828882151966\n"
          ]
        }
      ]
    },
    {
      "cell_type": "code",
      "source": [
        "print(tree)"
      ],
      "metadata": {
        "colab": {
          "base_uri": "https://localhost:8080/"
        },
        "id": "OJp9PmmGdU68",
        "outputId": "a59bfc0a-6d10-4858-d14d-f668a69cd1fc"
      },
      "execution_count": 97,
      "outputs": [
        {
          "output_type": "stream",
          "name": "stdout",
          "text": [
            "node: Online boarding\n",
            "children:\n",
            "    parent_choice: 3 | ch0: 0\n",
            "    parent_choice: 5 | ch1: 1\n",
            "    parent_choice: 2 | ch2: 0\n",
            "    parent_choice: 1 | ch3: 0\n",
            "    parent_choice: 4 | ch4: Inflight entertainment\n",
            "    parent_choice: 0 | ch5: 1\n",
            "----------------------\n",
            "node: Inflight entertainment\n",
            "children:\n",
            "    parent_choice: 5 | ch0: Leg room service\n",
            "    parent_choice: 1 | ch1: 0\n",
            "    parent_choice: 2 | ch2: 0\n",
            "    parent_choice: 3 | ch3: 0\n",
            "    parent_choice: 4 | ch4: 1\n",
            "    parent_choice: 0 | ch5: 0\n",
            "----------------------\n",
            "node: Leg room service\n",
            "children:\n",
            "    parent_choice: 3 | ch0: Food and drink\n",
            "    parent_choice: 5 | ch1: 1\n",
            "    parent_choice: 4 | ch2: 1\n",
            "    parent_choice: 2 | ch3: 0\n",
            "    parent_choice: 1 | ch4: 0\n",
            "    parent_choice: 0 | ch5: 0\n",
            "----------------------\n",
            "node: Food and drink\n",
            "children:\n",
            "    parent_choice: 5 | ch0: Age\n",
            "    parent_choice: 1 | ch1: 0\n",
            "    parent_choice: 2 | ch2: 0\n",
            "    parent_choice: 4 | ch3: 0\n",
            "    parent_choice: 3 | ch4: 0\n",
            "    parent_choice: 0 | ch5: 1\n",
            "----------------------\n",
            "node: Age\n",
            "children:\n",
            "    parent_choice: 1 | ch0: On-board service\n",
            "    parent_choice: 3 | ch1: Inflight service\n",
            "    parent_choice: 7 | ch2: 0\n",
            "    parent_choice: 6 | ch3: 0\n",
            "    parent_choice: 5 | ch4: 0\n",
            "    parent_choice: 2 | ch5: 1\n",
            "    parent_choice: 4 | ch6: 0\n",
            "    parent_choice: 8 | ch7: 0\n",
            "    parent_choice: 9 | ch8: 0\n",
            "    parent_choice: 0 | ch9: 0\n",
            "    parent_choice: 10 | ch10: 0\n",
            "----------------------\n",
            "node: On-board service\n",
            "children:\n",
            "    parent_choice: 4 | ch0: Checkin service\n",
            "    parent_choice: 1 | ch1: Departure/Arrival time convenient\n",
            "    parent_choice: 2 | ch2: Customer Type\n",
            "    parent_choice: 3 | ch3: Baggage handling\n",
            "    parent_choice: 5 | ch4: 1\n",
            "    parent_choice: 0 | ch5: 0\n",
            "----------------------\n",
            "node: Checkin service\n",
            "children:\n",
            "    parent_choice: 4 | ch0: 1\n",
            "    parent_choice: 1 | ch1: 0\n",
            "    parent_choice: 3 | ch2: 0\n",
            "    parent_choice: 5 | ch3: 0\n",
            "    parent_choice: 2 | ch4: 1\n",
            "    parent_choice: 0 | ch5: 0\n",
            "----------------------\n",
            "node: Departure/Arrival time convenient\n",
            "children:\n",
            "    parent_choice: 4 | ch0: 1\n",
            "    parent_choice: 2 | ch1: 0\n",
            "    parent_choice: 5 | ch2: 0\n",
            "    parent_choice: 3 | ch3: 0\n",
            "    parent_choice: 1 | ch4: 0\n",
            "    parent_choice: 0 | ch5: 0\n",
            "----------------------\n",
            "node: Customer Type\n",
            "children:\n",
            "    parent_choice: 1 | ch0: 0\n",
            "    parent_choice: 0 | ch1: 1\n",
            "----------------------\n",
            "node: Baggage handling\n",
            "children:\n",
            "    parent_choice: 4 | ch0: Flight Distance\n",
            "    parent_choice: 3 | ch1: 0\n",
            "    parent_choice: 5 | ch2: 0\n",
            "    parent_choice: 1 | ch3: 1\n",
            "    parent_choice: 2 | ch4: 0\n",
            "----------------------\n",
            "node: Flight Distance\n",
            "children:\n",
            "    parent_choice: 0 | ch0: 0\n",
            "    parent_choice: 2 | ch1: Gate location\n",
            "    parent_choice: 1 | ch2: Gender\n",
            "    parent_choice: 4 | ch3: 0\n",
            "    parent_choice: 5 | ch4: 0\n",
            "    parent_choice: 3 | ch5: 0\n",
            "    parent_choice: 6 | ch6: 0\n",
            "    parent_choice: 7 | ch7: 0\n",
            "    parent_choice: 8 | ch8: 0\n",
            "    parent_choice: 10 | ch9: 0\n",
            "    parent_choice: 9 | ch10: 0\n",
            "----------------------\n",
            "node: Gate location\n",
            "children:\n",
            "    parent_choice: 1 | ch0: 0\n",
            "    parent_choice: 3 | ch1: 0\n",
            "    parent_choice: 2 | ch2: 1\n",
            "    parent_choice: 5 | ch3: 0\n",
            "    parent_choice: 4 | ch4: 0\n",
            "    parent_choice: 0 | ch5: 0\n",
            "----------------------\n",
            "node: Gender\n",
            "children:\n",
            "    parent_choice: 1 | ch0: 0\n",
            "    parent_choice: 0 | ch1: 1\n",
            "----------------------\n",
            "node: Inflight service\n",
            "children:\n",
            "    parent_choice: 5 | ch0: Seat comfort\n",
            "    parent_choice: 4 | ch1: Departure Delay in Minutes\n",
            "    parent_choice: 3 | ch2: 0\n",
            "    parent_choice: 1 | ch3: 1\n",
            "    parent_choice: 2 | ch4: 0\n",
            "    parent_choice: 0 | ch5: 1\n",
            "----------------------\n",
            "node: Seat comfort\n",
            "children:\n",
            "    parent_choice: 5 | ch0: 1\n",
            "    parent_choice: 1 | ch1: 1\n",
            "    parent_choice: 2 | ch2: 0\n",
            "    parent_choice: 3 | ch3: 1\n",
            "    parent_choice: 4 | ch4: 1\n",
            "    parent_choice: 0 | ch5: 1\n",
            "----------------------\n",
            "node: Departure Delay in Minutes\n",
            "children:\n",
            "    parent_choice: 0 | ch0: Arrival Delay in Minutes\n",
            "    parent_choice: 1 | ch1: 1\n",
            "    parent_choice: 4 | ch2: 1\n",
            "    parent_choice: 2 | ch3: 1\n",
            "    parent_choice: 3 | ch4: 1\n",
            "    parent_choice: 5 | ch5: 1\n",
            "----------------------\n",
            "node: Arrival Delay in Minutes\n",
            "children:\n",
            "    parent_choice: 0 | ch0: 1\n",
            "    parent_choice: 1 | ch1: 1\n",
            "    parent_choice: 4 | ch2: 1\n",
            "    parent_choice: 2 | ch3: 1\n",
            "    parent_choice: 3 | ch4: 1\n",
            "    parent_choice: 5 | ch5: 1\n",
            "----------------------\n",
            "\n"
          ]
        }
      ]
    },
    {
      "cell_type": "code",
      "source": [
        "tree2 = decision_tree_learn(train_df, list(train_df.columns)[:-1], pd.DataFrame([]), attr_values, True)\n",
        "print(\"Acc(gini-index):\", accuracy(tree2, test_df))"
      ],
      "metadata": {
        "id": "P52t6GP3BrcL",
        "colab": {
          "base_uri": "https://localhost:8080/"
        },
        "outputId": "2a0a7b88-c11b-4353-b201-203cca305394"
      },
      "execution_count": 98,
      "outputs": [
        {
          "output_type": "stream",
          "name": "stdout",
          "text": [
            "Acc(gini-index): 81.40609210336365\n"
          ]
        }
      ]
    },
    {
      "cell_type": "code",
      "source": [
        "print(tree2)"
      ],
      "metadata": {
        "colab": {
          "base_uri": "https://localhost:8080/"
        },
        "id": "NoPAqJB80Ol2",
        "outputId": "a284e604-1be7-4a35-e3a8-17123aec10b3"
      },
      "execution_count": 89,
      "outputs": [
        {
          "output_type": "stream",
          "name": "stdout",
          "text": [
            "node: Departure Delay in Minutes\n",
            "children:\n",
            "    parent_choice: 0 | ch0: Inflight wifi service\n",
            "    parent_choice: 1 | ch1: 0\n",
            "    parent_choice: 4 | ch2: 1\n",
            "    parent_choice: 2 | ch3: 0\n",
            "    parent_choice: 3 | ch4: 0\n",
            "    parent_choice: 5 | ch5: 0\n",
            "----------------------\n",
            "node: Inflight wifi service\n",
            "children:\n",
            "    parent_choice: 3 | ch0: Gate location\n",
            "    parent_choice: 2 | ch1: 0\n",
            "    parent_choice: 4 | ch2: 1\n",
            "    parent_choice: 1 | ch3: 0\n",
            "    parent_choice: 5 | ch4: 1\n",
            "    parent_choice: 0 | ch5: 1\n",
            "----------------------\n",
            "node: Gate location\n",
            "children:\n",
            "    parent_choice: 1 | ch0: Flight Distance\n",
            "    parent_choice: 3 | ch1: 0\n",
            "    parent_choice: 2 | ch2: 0\n",
            "    parent_choice: 5 | ch3: 0\n",
            "    parent_choice: 4 | ch4: 0\n",
            "    parent_choice: 0 | ch5: 0\n",
            "----------------------\n",
            "node: Flight Distance\n",
            "children:\n",
            "    parent_choice: 0 | ch0: Age\n",
            "    parent_choice: 2 | ch1: 0\n",
            "    parent_choice: 1 | ch2: 0\n",
            "    parent_choice: 4 | ch3: 0\n",
            "    parent_choice: 5 | ch4: 0\n",
            "    parent_choice: 3 | ch5: 0\n",
            "    parent_choice: 6 | ch6: 0\n",
            "    parent_choice: 7 | ch7: 0\n",
            "    parent_choice: 8 | ch8: 0\n",
            "    parent_choice: 10 | ch9: 0\n",
            "    parent_choice: 9 | ch10: 0\n",
            "----------------------\n",
            "node: Age\n",
            "children:\n",
            "    parent_choice: 1 | ch0: 0\n",
            "    parent_choice: 3 | ch1: Inflight service\n",
            "    parent_choice: 7 | ch2: Class\n",
            "    parent_choice: 6 | ch3: Leg room service\n",
            "    parent_choice: 5 | ch4: 0\n",
            "    parent_choice: 2 | ch5: 0\n",
            "    parent_choice: 4 | ch6: 0\n",
            "    parent_choice: 8 | ch7: 0\n",
            "    parent_choice: 9 | ch8: 0\n",
            "    parent_choice: 0 | ch9: 0\n",
            "    parent_choice: 10 | ch10: 0\n",
            "----------------------\n",
            "node: Inflight service\n",
            "children:\n",
            "    parent_choice: 5 | ch0: 0\n",
            "    parent_choice: 4 | ch1: Online boarding\n",
            "    parent_choice: 3 | ch2: 0\n",
            "    parent_choice: 1 | ch3: 0\n",
            "    parent_choice: 2 | ch4: 0\n",
            "    parent_choice: 0 | ch5: 0\n",
            "----------------------\n",
            "node: Online boarding\n",
            "children:\n",
            "    parent_choice: 3 | ch0: 0\n",
            "    parent_choice: 5 | ch1: 0\n",
            "    parent_choice: 2 | ch2: 0\n",
            "    parent_choice: 1 | ch3: 0\n",
            "    parent_choice: 4 | ch4: 1\n",
            "    parent_choice: 0 | ch5: 0\n",
            "----------------------\n",
            "node: Class\n",
            "children:\n",
            "    parent_choice: 0 | ch0: 0\n",
            "    parent_choice: 1 | ch1: 0\n",
            "    parent_choice: 2 | ch2: Customer Type\n",
            "----------------------\n",
            "node: Customer Type\n",
            "children:\n",
            "    parent_choice: 1 | ch0: Departure/Arrival time convenient\n",
            "    parent_choice: 0 | ch1: 0\n",
            "----------------------\n",
            "node: Departure/Arrival time convenient\n",
            "children:\n",
            "    parent_choice: 4 | ch0: 0\n",
            "    parent_choice: 2 | ch1: 0\n",
            "    parent_choice: 5 | ch2: 0\n",
            "    parent_choice: 3 | ch3: 0\n",
            "    parent_choice: 1 | ch4: Food and drink\n",
            "    parent_choice: 0 | ch5: 0\n",
            "----------------------\n",
            "node: Food and drink\n",
            "children:\n",
            "    parent_choice: 5 | ch0: Ease of Online booking\n",
            "    parent_choice: 1 | ch1: 0\n",
            "    parent_choice: 2 | ch2: 0\n",
            "    parent_choice: 4 | ch3: 0\n",
            "    parent_choice: 3 | ch4: Checkin service\n",
            "    parent_choice: 0 | ch5: 0\n",
            "----------------------\n",
            "node: Ease of Online booking\n",
            "children:\n",
            "    parent_choice: 3 | ch0: 0\n",
            "    parent_choice: 2 | ch1: 0\n",
            "    parent_choice: 5 | ch2: 0\n",
            "    parent_choice: 4 | ch3: 1\n",
            "    parent_choice: 1 | ch4: 0\n",
            "    parent_choice: 0 | ch5: 0\n",
            "----------------------\n",
            "node: Checkin service\n",
            "children:\n",
            "    parent_choice: 4 | ch0: 0\n",
            "    parent_choice: 1 | ch1: 0\n",
            "    parent_choice: 3 | ch2: 0\n",
            "    parent_choice: 5 | ch3: 1\n",
            "    parent_choice: 2 | ch4: Gender\n",
            "    parent_choice: 0 | ch5: 0\n",
            "----------------------\n",
            "node: Gender\n",
            "children:\n",
            "    parent_choice: 1 | ch0: 1\n",
            "    parent_choice: 0 | ch1: 0\n",
            "----------------------\n",
            "node: Leg room service\n",
            "children:\n",
            "    parent_choice: 3 | ch0: Inflight entertainment\n",
            "    parent_choice: 5 | ch1: 0\n",
            "    parent_choice: 4 | ch2: Arrival Delay in Minutes\n",
            "    parent_choice: 2 | ch3: 0\n",
            "    parent_choice: 1 | ch4: 0\n",
            "    parent_choice: 0 | ch5: 0\n",
            "----------------------\n",
            "node: Inflight entertainment\n",
            "children:\n",
            "    parent_choice: 5 | ch0: 0\n",
            "    parent_choice: 1 | ch1: 0\n",
            "    parent_choice: 2 | ch2: Type of Travel\n",
            "    parent_choice: 3 | ch3: On-board service\n",
            "    parent_choice: 4 | ch4: 0\n",
            "    parent_choice: 0 | ch5: 0\n",
            "----------------------\n",
            "node: Type of Travel\n",
            "children:\n",
            "    parent_choice: 1 | ch0: 0\n",
            "    parent_choice: 0 | ch1: 1\n",
            "----------------------\n",
            "node: On-board service\n",
            "children:\n",
            "    parent_choice: 4 | ch0: 0\n",
            "    parent_choice: 1 | ch1: 0\n",
            "    parent_choice: 2 | ch2: 0\n",
            "    parent_choice: 3 | ch3: Baggage handling\n",
            "    parent_choice: 5 | ch4: 0\n",
            "    parent_choice: 0 | ch5: 0\n",
            "----------------------\n",
            "node: Baggage handling\n",
            "children:\n",
            "    parent_choice: 4 | ch0: 0\n",
            "    parent_choice: 3 | ch1: Seat comfort\n",
            "    parent_choice: 5 | ch2: 0\n",
            "    parent_choice: 1 | ch3: 0\n",
            "    parent_choice: 2 | ch4: 0\n",
            "----------------------\n",
            "node: Seat comfort\n",
            "children:\n",
            "    parent_choice: 5 | ch0: 0\n",
            "    parent_choice: 1 | ch1: Cleanliness\n",
            "    parent_choice: 2 | ch2: 0\n",
            "    parent_choice: 3 | ch3: 0\n",
            "    parent_choice: 4 | ch4: 0\n",
            "    parent_choice: 0 | ch5: 0\n",
            "----------------------\n",
            "node: Cleanliness\n",
            "children:\n",
            "    parent_choice: 5 | ch0: 1\n",
            "    parent_choice: 1 | ch1: 0\n",
            "    parent_choice: 2 | ch2: 0\n",
            "    parent_choice: 3 | ch3: 0\n",
            "    parent_choice: 4 | ch4: 0\n",
            "    parent_choice: 0 | ch5: 0\n",
            "----------------------\n",
            "node: Arrival Delay in Minutes\n",
            "children:\n",
            "    parent_choice: 0 | ch0: 0\n",
            "    parent_choice: 1 | ch1: 0\n",
            "    parent_choice: 4 | ch2: 0\n",
            "    parent_choice: 2 | ch3: 0\n",
            "    parent_choice: 3 | ch4: 0\n",
            "    parent_choice: 5 | ch5: 0\n",
            "----------------------\n",
            "\n"
          ]
        }
      ]
    },
    {
      "cell_type": "code",
      "source": [
        "from sklearn.tree import DecisionTreeClassifier\n",
        "from sklearn.model_selection import train_test_split\n",
        "\n",
        "X = air_df.iloc[:,:-1]\n",
        "y = air_df.iloc[:,-1]\n",
        "\n",
        "X_train, X_test, y_train, y_test = train_test_split(X, y, test_size=0.2, random_state=42)"
      ],
      "metadata": {
        "id": "Pywb5UtbM5wa"
      },
      "execution_count": 99,
      "outputs": []
    },
    {
      "cell_type": "code",
      "source": [
        "tree = DecisionTreeClassifier(random_state=10)\n",
        "tree.fit(X_train, y_train)\n",
        "\n",
        "y_pred = tree.predict(X_test)\n",
        "\n",
        "accuracy_value = tree.score(X_test, y_test)\n",
        "\n",
        "print(f\"Accuracy: {accuracy_value * 100}\")"
      ],
      "metadata": {
        "colab": {
          "base_uri": "https://localhost:8080/"
        },
        "id": "4XwyY-p5FIPR",
        "outputId": "362b45ac-73d1-4332-a907-fa4979e13245"
      },
      "execution_count": 100,
      "outputs": [
        {
          "output_type": "stream",
          "name": "stdout",
          "text": [
            "Accuracy: 94.4516625763919\n"
          ]
        }
      ]
    },
    {
      "cell_type": "code",
      "source": [],
      "metadata": {
        "id": "JT0nSIhvB-_T"
      },
      "execution_count": 173,
      "outputs": []
    }
  ]
}